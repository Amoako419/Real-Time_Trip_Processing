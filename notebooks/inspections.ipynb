{
 "cells": [
  {
   "cell_type": "code",
   "execution_count": 1,
   "id": "469f973d",
   "metadata": {},
   "outputs": [],
   "source": [
    "import pandas as pd"
   ]
  },
  {
   "cell_type": "code",
   "execution_count": 2,
   "id": "72e52256",
   "metadata": {},
   "outputs": [],
   "source": [
    "trip_start = pd.read_csv('../data/Trip_Start/trip_start.csv')\n",
    "trip_end = pd.read_csv('../data/Trip_End/trip_end.csv')"
   ]
  },
  {
   "cell_type": "code",
   "execution_count": 3,
   "id": "899db8b7",
   "metadata": {},
   "outputs": [
    {
     "data": {
      "text/html": [
       "<div>\n",
       "<style scoped>\n",
       "    .dataframe tbody tr th:only-of-type {\n",
       "        vertical-align: middle;\n",
       "    }\n",
       "\n",
       "    .dataframe tbody tr th {\n",
       "        vertical-align: top;\n",
       "    }\n",
       "\n",
       "    .dataframe thead th {\n",
       "        text-align: right;\n",
       "    }\n",
       "</style>\n",
       "<table border=\"1\" class=\"dataframe\">\n",
       "  <thead>\n",
       "    <tr style=\"text-align: right;\">\n",
       "      <th></th>\n",
       "      <th>trip_id</th>\n",
       "      <th>pickup_location_id</th>\n",
       "      <th>dropoff_location_id</th>\n",
       "      <th>vendor_id</th>\n",
       "      <th>pickup_datetime</th>\n",
       "      <th>estimated_dropoff_datetime</th>\n",
       "      <th>estimated_fare_amount</th>\n",
       "    </tr>\n",
       "  </thead>\n",
       "  <tbody>\n",
       "    <tr>\n",
       "      <th>0</th>\n",
       "      <td>c66ce556bc</td>\n",
       "      <td>93</td>\n",
       "      <td>93</td>\n",
       "      <td>1</td>\n",
       "      <td>2024-05-25 13:19:00</td>\n",
       "      <td>2024-05-25 14:03:00</td>\n",
       "      <td>34.185953</td>\n",
       "    </tr>\n",
       "    <tr>\n",
       "      <th>1</th>\n",
       "      <td>f93c901b2d</td>\n",
       "      <td>247</td>\n",
       "      <td>247</td>\n",
       "      <td>1</td>\n",
       "      <td>2024-05-25 18:32:00</td>\n",
       "      <td>2024-05-25 19:15:00</td>\n",
       "      <td>69.124717</td>\n",
       "    </tr>\n",
       "    <tr>\n",
       "      <th>2</th>\n",
       "      <td>9ddba1d91a</td>\n",
       "      <td>7</td>\n",
       "      <td>193</td>\n",
       "      <td>2</td>\n",
       "      <td>2024-05-25 05:17:00</td>\n",
       "      <td>2024-05-25 05:37:00</td>\n",
       "      <td>47.097901</td>\n",
       "    </tr>\n",
       "    <tr>\n",
       "      <th>3</th>\n",
       "      <td>cc4db3afb9</td>\n",
       "      <td>193</td>\n",
       "      <td>193</td>\n",
       "      <td>2</td>\n",
       "      <td>2024-05-25 16:16:00</td>\n",
       "      <td>2024-05-25 17:02:00</td>\n",
       "      <td>66.546304</td>\n",
       "    </tr>\n",
       "    <tr>\n",
       "      <th>4</th>\n",
       "      <td>f881b97b2c</td>\n",
       "      <td>93</td>\n",
       "      <td>93</td>\n",
       "      <td>1</td>\n",
       "      <td>2024-05-25 12:43:00</td>\n",
       "      <td>2024-05-25 13:39:00</td>\n",
       "      <td>69.309091</td>\n",
       "    </tr>\n",
       "  </tbody>\n",
       "</table>\n",
       "</div>"
      ],
      "text/plain": [
       "      trip_id  pickup_location_id  dropoff_location_id  vendor_id  \\\n",
       "0  c66ce556bc                  93                   93          1   \n",
       "1  f93c901b2d                 247                  247          1   \n",
       "2  9ddba1d91a                   7                  193          2   \n",
       "3  cc4db3afb9                 193                  193          2   \n",
       "4  f881b97b2c                  93                   93          1   \n",
       "\n",
       "       pickup_datetime estimated_dropoff_datetime  estimated_fare_amount  \n",
       "0  2024-05-25 13:19:00        2024-05-25 14:03:00              34.185953  \n",
       "1  2024-05-25 18:32:00        2024-05-25 19:15:00              69.124717  \n",
       "2  2024-05-25 05:17:00        2024-05-25 05:37:00              47.097901  \n",
       "3  2024-05-25 16:16:00        2024-05-25 17:02:00              66.546304  \n",
       "4  2024-05-25 12:43:00        2024-05-25 13:39:00              69.309091  "
      ]
     },
     "execution_count": 3,
     "metadata": {},
     "output_type": "execute_result"
    }
   ],
   "source": [
    "trip_start.head()"
   ]
  },
  {
   "cell_type": "code",
   "execution_count": 19,
   "id": "f3be0ab2",
   "metadata": {},
   "outputs": [
    {
     "data": {
      "text/plain": [
       "trip_id                       0\n",
       "pickup_location_id            0\n",
       "dropoff_location_id           0\n",
       "vendor_id                     0\n",
       "pickup_datetime               0\n",
       "estimated_dropoff_datetime    0\n",
       "estimated_fare_amount         0\n",
       "dtype: int64"
      ]
     },
     "execution_count": 19,
     "metadata": {},
     "output_type": "execute_result"
    }
   ],
   "source": [
    "trip_start.isnull().sum()"
   ]
  },
  {
   "cell_type": "code",
   "execution_count": 4,
   "id": "55ebb2b3",
   "metadata": {},
   "outputs": [
    {
     "data": {
      "text/plain": [
       "(4999, 7)"
      ]
     },
     "execution_count": 4,
     "metadata": {},
     "output_type": "execute_result"
    }
   ],
   "source": [
    "trip_start.shape"
   ]
  },
  {
   "cell_type": "code",
   "execution_count": 5,
   "id": "de1236a4",
   "metadata": {},
   "outputs": [
    {
     "data": {
      "text/html": [
       "<div>\n",
       "<style scoped>\n",
       "    .dataframe tbody tr th:only-of-type {\n",
       "        vertical-align: middle;\n",
       "    }\n",
       "\n",
       "    .dataframe tbody tr th {\n",
       "        vertical-align: top;\n",
       "    }\n",
       "\n",
       "    .dataframe thead th {\n",
       "        text-align: right;\n",
       "    }\n",
       "</style>\n",
       "<table border=\"1\" class=\"dataframe\">\n",
       "  <thead>\n",
       "    <tr style=\"text-align: right;\">\n",
       "      <th></th>\n",
       "      <th>dropoff_datetime</th>\n",
       "      <th>rate_code</th>\n",
       "      <th>passenger_count</th>\n",
       "      <th>trip_distance</th>\n",
       "      <th>fare_amount</th>\n",
       "      <th>tip_amount</th>\n",
       "      <th>payment_type</th>\n",
       "      <th>trip_type</th>\n",
       "      <th>trip_id</th>\n",
       "    </tr>\n",
       "  </thead>\n",
       "  <tbody>\n",
       "    <tr>\n",
       "      <th>0</th>\n",
       "      <td>2024-05-25 14:05:00</td>\n",
       "      <td>5.0</td>\n",
       "      <td>0.0</td>\n",
       "      <td>0.1</td>\n",
       "      <td>40.096207</td>\n",
       "      <td>0.000000</td>\n",
       "      <td>3.0</td>\n",
       "      <td>2.0</td>\n",
       "      <td>c66ce556bc</td>\n",
       "    </tr>\n",
       "    <tr>\n",
       "      <th>1</th>\n",
       "      <td>2024-05-25 19:15:00</td>\n",
       "      <td>5.0</td>\n",
       "      <td>1.0</td>\n",
       "      <td>0.0</td>\n",
       "      <td>69.124717</td>\n",
       "      <td>0.000000</td>\n",
       "      <td>3.0</td>\n",
       "      <td>2.0</td>\n",
       "      <td>f93c901b2d</td>\n",
       "    </tr>\n",
       "    <tr>\n",
       "      <th>2</th>\n",
       "      <td>2024-05-25 05:41:00</td>\n",
       "      <td>1.0</td>\n",
       "      <td>1.0</td>\n",
       "      <td>0.0</td>\n",
       "      <td>47.097901</td>\n",
       "      <td>0.000000</td>\n",
       "      <td>1.0</td>\n",
       "      <td>1.0</td>\n",
       "      <td>9ddba1d91a</td>\n",
       "    </tr>\n",
       "    <tr>\n",
       "      <th>3</th>\n",
       "      <td>2024-05-25 17:05:00</td>\n",
       "      <td>1.0</td>\n",
       "      <td>1.0</td>\n",
       "      <td>0.0</td>\n",
       "      <td>77.156184</td>\n",
       "      <td>1.423181</td>\n",
       "      <td>1.0</td>\n",
       "      <td>1.0</td>\n",
       "      <td>cc4db3afb9</td>\n",
       "    </tr>\n",
       "    <tr>\n",
       "      <th>4</th>\n",
       "      <td>2024-05-25 13:39:00</td>\n",
       "      <td>5.0</td>\n",
       "      <td>1.0</td>\n",
       "      <td>0.1</td>\n",
       "      <td>81.467290</td>\n",
       "      <td>0.000000</td>\n",
       "      <td>3.0</td>\n",
       "      <td>2.0</td>\n",
       "      <td>f881b97b2c</td>\n",
       "    </tr>\n",
       "  </tbody>\n",
       "</table>\n",
       "</div>"
      ],
      "text/plain": [
       "      dropoff_datetime  rate_code  passenger_count  trip_distance  \\\n",
       "0  2024-05-25 14:05:00        5.0              0.0            0.1   \n",
       "1  2024-05-25 19:15:00        5.0              1.0            0.0   \n",
       "2  2024-05-25 05:41:00        1.0              1.0            0.0   \n",
       "3  2024-05-25 17:05:00        1.0              1.0            0.0   \n",
       "4  2024-05-25 13:39:00        5.0              1.0            0.1   \n",
       "\n",
       "   fare_amount  tip_amount  payment_type  trip_type     trip_id  \n",
       "0    40.096207    0.000000           3.0        2.0  c66ce556bc  \n",
       "1    69.124717    0.000000           3.0        2.0  f93c901b2d  \n",
       "2    47.097901    0.000000           1.0        1.0  9ddba1d91a  \n",
       "3    77.156184    1.423181           1.0        1.0  cc4db3afb9  \n",
       "4    81.467290    0.000000           3.0        2.0  f881b97b2c  "
      ]
     },
     "execution_count": 5,
     "metadata": {},
     "output_type": "execute_result"
    }
   ],
   "source": [
    "trip_end.head()"
   ]
  },
  {
   "cell_type": "code",
   "execution_count": 6,
   "id": "2295335e",
   "metadata": {},
   "outputs": [
    {
     "data": {
      "text/plain": [
       "(4999, 9)"
      ]
     },
     "execution_count": 6,
     "metadata": {},
     "output_type": "execute_result"
    }
   ],
   "source": [
    "trip_end.shape"
   ]
  },
  {
   "cell_type": "code",
   "execution_count": 20,
   "id": "f4ceb284",
   "metadata": {},
   "outputs": [
    {
     "data": {
      "text/plain": [
       "dropoff_datetime      0\n",
       "rate_code           531\n",
       "passenger_count     531\n",
       "trip_distance         0\n",
       "fare_amount           0\n",
       "tip_amount            0\n",
       "payment_type        531\n",
       "trip_type           531\n",
       "trip_id               0\n",
       "dtype: int64"
      ]
     },
     "execution_count": 20,
     "metadata": {},
     "output_type": "execute_result"
    }
   ],
   "source": [
    "trip_end.isnull().sum() "
   ]
  },
  {
   "cell_type": "code",
   "execution_count": 7,
   "id": "a215bc88",
   "metadata": {},
   "outputs": [],
   "source": [
    "trips = pd.merge(trip_start, trip_end, on='trip_id')"
   ]
  },
  {
   "cell_type": "code",
   "execution_count": 8,
   "id": "efde6f6c",
   "metadata": {},
   "outputs": [
    {
     "data": {
      "text/html": [
       "<div>\n",
       "<style scoped>\n",
       "    .dataframe tbody tr th:only-of-type {\n",
       "        vertical-align: middle;\n",
       "    }\n",
       "\n",
       "    .dataframe tbody tr th {\n",
       "        vertical-align: top;\n",
       "    }\n",
       "\n",
       "    .dataframe thead th {\n",
       "        text-align: right;\n",
       "    }\n",
       "</style>\n",
       "<table border=\"1\" class=\"dataframe\">\n",
       "  <thead>\n",
       "    <tr style=\"text-align: right;\">\n",
       "      <th></th>\n",
       "      <th>trip_id</th>\n",
       "      <th>pickup_location_id</th>\n",
       "      <th>dropoff_location_id</th>\n",
       "      <th>vendor_id</th>\n",
       "      <th>pickup_datetime</th>\n",
       "      <th>estimated_dropoff_datetime</th>\n",
       "      <th>estimated_fare_amount</th>\n",
       "      <th>dropoff_datetime</th>\n",
       "      <th>rate_code</th>\n",
       "      <th>passenger_count</th>\n",
       "      <th>trip_distance</th>\n",
       "      <th>fare_amount</th>\n",
       "      <th>tip_amount</th>\n",
       "      <th>payment_type</th>\n",
       "      <th>trip_type</th>\n",
       "    </tr>\n",
       "  </thead>\n",
       "  <tbody>\n",
       "    <tr>\n",
       "      <th>0</th>\n",
       "      <td>c66ce556bc</td>\n",
       "      <td>93</td>\n",
       "      <td>93</td>\n",
       "      <td>1</td>\n",
       "      <td>2024-05-25 13:19:00</td>\n",
       "      <td>2024-05-25 14:03:00</td>\n",
       "      <td>34.185953</td>\n",
       "      <td>2024-05-25 14:05:00</td>\n",
       "      <td>5.0</td>\n",
       "      <td>0.0</td>\n",
       "      <td>0.1</td>\n",
       "      <td>40.096207</td>\n",
       "      <td>0.000000</td>\n",
       "      <td>3.0</td>\n",
       "      <td>2.0</td>\n",
       "    </tr>\n",
       "    <tr>\n",
       "      <th>1</th>\n",
       "      <td>f93c901b2d</td>\n",
       "      <td>247</td>\n",
       "      <td>247</td>\n",
       "      <td>1</td>\n",
       "      <td>2024-05-25 18:32:00</td>\n",
       "      <td>2024-05-25 19:15:00</td>\n",
       "      <td>69.124717</td>\n",
       "      <td>2024-05-25 19:15:00</td>\n",
       "      <td>5.0</td>\n",
       "      <td>1.0</td>\n",
       "      <td>0.0</td>\n",
       "      <td>69.124717</td>\n",
       "      <td>0.000000</td>\n",
       "      <td>3.0</td>\n",
       "      <td>2.0</td>\n",
       "    </tr>\n",
       "    <tr>\n",
       "      <th>2</th>\n",
       "      <td>9ddba1d91a</td>\n",
       "      <td>7</td>\n",
       "      <td>193</td>\n",
       "      <td>2</td>\n",
       "      <td>2024-05-25 05:17:00</td>\n",
       "      <td>2024-05-25 05:37:00</td>\n",
       "      <td>47.097901</td>\n",
       "      <td>2024-05-25 05:41:00</td>\n",
       "      <td>1.0</td>\n",
       "      <td>1.0</td>\n",
       "      <td>0.0</td>\n",
       "      <td>47.097901</td>\n",
       "      <td>0.000000</td>\n",
       "      <td>1.0</td>\n",
       "      <td>1.0</td>\n",
       "    </tr>\n",
       "    <tr>\n",
       "      <th>3</th>\n",
       "      <td>cc4db3afb9</td>\n",
       "      <td>193</td>\n",
       "      <td>193</td>\n",
       "      <td>2</td>\n",
       "      <td>2024-05-25 16:16:00</td>\n",
       "      <td>2024-05-25 17:02:00</td>\n",
       "      <td>66.546304</td>\n",
       "      <td>2024-05-25 17:05:00</td>\n",
       "      <td>1.0</td>\n",
       "      <td>1.0</td>\n",
       "      <td>0.0</td>\n",
       "      <td>77.156184</td>\n",
       "      <td>1.423181</td>\n",
       "      <td>1.0</td>\n",
       "      <td>1.0</td>\n",
       "    </tr>\n",
       "    <tr>\n",
       "      <th>4</th>\n",
       "      <td>f881b97b2c</td>\n",
       "      <td>93</td>\n",
       "      <td>93</td>\n",
       "      <td>1</td>\n",
       "      <td>2024-05-25 12:43:00</td>\n",
       "      <td>2024-05-25 13:39:00</td>\n",
       "      <td>69.309091</td>\n",
       "      <td>2024-05-25 13:39:00</td>\n",
       "      <td>5.0</td>\n",
       "      <td>1.0</td>\n",
       "      <td>0.1</td>\n",
       "      <td>81.467290</td>\n",
       "      <td>0.000000</td>\n",
       "      <td>3.0</td>\n",
       "      <td>2.0</td>\n",
       "    </tr>\n",
       "  </tbody>\n",
       "</table>\n",
       "</div>"
      ],
      "text/plain": [
       "      trip_id  pickup_location_id  dropoff_location_id  vendor_id  \\\n",
       "0  c66ce556bc                  93                   93          1   \n",
       "1  f93c901b2d                 247                  247          1   \n",
       "2  9ddba1d91a                   7                  193          2   \n",
       "3  cc4db3afb9                 193                  193          2   \n",
       "4  f881b97b2c                  93                   93          1   \n",
       "\n",
       "       pickup_datetime estimated_dropoff_datetime  estimated_fare_amount  \\\n",
       "0  2024-05-25 13:19:00        2024-05-25 14:03:00              34.185953   \n",
       "1  2024-05-25 18:32:00        2024-05-25 19:15:00              69.124717   \n",
       "2  2024-05-25 05:17:00        2024-05-25 05:37:00              47.097901   \n",
       "3  2024-05-25 16:16:00        2024-05-25 17:02:00              66.546304   \n",
       "4  2024-05-25 12:43:00        2024-05-25 13:39:00              69.309091   \n",
       "\n",
       "      dropoff_datetime  rate_code  passenger_count  trip_distance  \\\n",
       "0  2024-05-25 14:05:00        5.0              0.0            0.1   \n",
       "1  2024-05-25 19:15:00        5.0              1.0            0.0   \n",
       "2  2024-05-25 05:41:00        1.0              1.0            0.0   \n",
       "3  2024-05-25 17:05:00        1.0              1.0            0.0   \n",
       "4  2024-05-25 13:39:00        5.0              1.0            0.1   \n",
       "\n",
       "   fare_amount  tip_amount  payment_type  trip_type  \n",
       "0    40.096207    0.000000           3.0        2.0  \n",
       "1    69.124717    0.000000           3.0        2.0  \n",
       "2    47.097901    0.000000           1.0        1.0  \n",
       "3    77.156184    1.423181           1.0        1.0  \n",
       "4    81.467290    0.000000           3.0        2.0  "
      ]
     },
     "execution_count": 8,
     "metadata": {},
     "output_type": "execute_result"
    }
   ],
   "source": [
    "trips.head()"
   ]
  },
  {
   "cell_type": "code",
   "execution_count": 9,
   "id": "edca223e",
   "metadata": {},
   "outputs": [
    {
     "data": {
      "text/plain": [
       "(4999, 15)"
      ]
     },
     "execution_count": 9,
     "metadata": {},
     "output_type": "execute_result"
    }
   ],
   "source": [
    "trips.shape"
   ]
  },
  {
   "cell_type": "code",
   "execution_count": 10,
   "id": "3fd72e59",
   "metadata": {},
   "outputs": [
    {
     "data": {
      "text/plain": [
       "Index(['trip_id', 'pickup_location_id', 'dropoff_location_id', 'vendor_id',\n",
       "       'pickup_datetime', 'estimated_dropoff_datetime',\n",
       "       'estimated_fare_amount'],\n",
       "      dtype='object')"
      ]
     },
     "execution_count": 10,
     "metadata": {},
     "output_type": "execute_result"
    }
   ],
   "source": [
    "trip_start.columns"
   ]
  },
  {
   "cell_type": "code",
   "execution_count": 11,
   "id": "57c8e278",
   "metadata": {},
   "outputs": [
    {
     "data": {
      "text/plain": [
       "Index(['dropoff_datetime', 'rate_code', 'passenger_count', 'trip_distance',\n",
       "       'fare_amount', 'tip_amount', 'payment_type', 'trip_type', 'trip_id'],\n",
       "      dtype='object')"
      ]
     },
     "execution_count": 11,
     "metadata": {},
     "output_type": "execute_result"
    }
   ],
   "source": [
    "trip_end.columns"
   ]
  },
  {
   "cell_type": "code",
   "execution_count": 12,
   "id": "7e3e76e1",
   "metadata": {},
   "outputs": [
    {
     "data": {
      "text/html": [
       "<div>\n",
       "<style scoped>\n",
       "    .dataframe tbody tr th:only-of-type {\n",
       "        vertical-align: middle;\n",
       "    }\n",
       "\n",
       "    .dataframe tbody tr th {\n",
       "        vertical-align: top;\n",
       "    }\n",
       "\n",
       "    .dataframe thead th {\n",
       "        text-align: right;\n",
       "    }\n",
       "</style>\n",
       "<table border=\"1\" class=\"dataframe\">\n",
       "  <thead>\n",
       "    <tr style=\"text-align: right;\">\n",
       "      <th></th>\n",
       "      <th>trip_id</th>\n",
       "      <th>pickup_location_id</th>\n",
       "      <th>dropoff_location_id</th>\n",
       "      <th>vendor_id</th>\n",
       "      <th>pickup_datetime</th>\n",
       "      <th>estimated_dropoff_datetime</th>\n",
       "      <th>estimated_fare_amount</th>\n",
       "      <th>dropoff_datetime</th>\n",
       "      <th>rate_code</th>\n",
       "      <th>passenger_count</th>\n",
       "      <th>trip_distance</th>\n",
       "      <th>fare_amount</th>\n",
       "      <th>tip_amount</th>\n",
       "      <th>payment_type</th>\n",
       "      <th>trip_type</th>\n",
       "    </tr>\n",
       "  </thead>\n",
       "  <tbody>\n",
       "    <tr>\n",
       "      <th>191</th>\n",
       "      <td>112cfd5a09</td>\n",
       "      <td>254</td>\n",
       "      <td>119</td>\n",
       "      <td>1</td>\n",
       "      <td>2024-05-25 00:01:00</td>\n",
       "      <td>2024-05-25 00:20:00</td>\n",
       "      <td>56.386583</td>\n",
       "      <td>2024-05-25 00:20:00</td>\n",
       "      <td>1.0</td>\n",
       "      <td>1.0</td>\n",
       "      <td>0.00</td>\n",
       "      <td>56.386583</td>\n",
       "      <td>0.0</td>\n",
       "      <td>1.0</td>\n",
       "      <td>1.0</td>\n",
       "    </tr>\n",
       "    <tr>\n",
       "      <th>3552</th>\n",
       "      <td>750b087814</td>\n",
       "      <td>95</td>\n",
       "      <td>160</td>\n",
       "      <td>2</td>\n",
       "      <td>2024-05-25 00:01:00</td>\n",
       "      <td>2024-05-25 00:24:00</td>\n",
       "      <td>74.202816</td>\n",
       "      <td>2024-05-25 00:24:00</td>\n",
       "      <td>1.0</td>\n",
       "      <td>1.0</td>\n",
       "      <td>2.49</td>\n",
       "      <td>84.045145</td>\n",
       "      <td>0.0</td>\n",
       "      <td>2.0</td>\n",
       "      <td>1.0</td>\n",
       "    </tr>\n",
       "    <tr>\n",
       "      <th>2641</th>\n",
       "      <td>4c523c6888</td>\n",
       "      <td>130</td>\n",
       "      <td>216</td>\n",
       "      <td>2</td>\n",
       "      <td>2024-05-25 00:02:00</td>\n",
       "      <td>2024-05-25 00:27:00</td>\n",
       "      <td>56.537472</td>\n",
       "      <td>2024-05-25 00:27:00</td>\n",
       "      <td>1.0</td>\n",
       "      <td>1.0</td>\n",
       "      <td>3.09</td>\n",
       "      <td>62.946882</td>\n",
       "      <td>0.0</td>\n",
       "      <td>2.0</td>\n",
       "      <td>1.0</td>\n",
       "    </tr>\n",
       "    <tr>\n",
       "      <th>1988</th>\n",
       "      <td>c1e4a59253</td>\n",
       "      <td>74</td>\n",
       "      <td>116</td>\n",
       "      <td>2</td>\n",
       "      <td>2024-05-25 00:04:00</td>\n",
       "      <td>2024-05-25 00:27:00</td>\n",
       "      <td>45.654812</td>\n",
       "      <td>2024-05-25 00:27:00</td>\n",
       "      <td>1.0</td>\n",
       "      <td>1.0</td>\n",
       "      <td>3.54</td>\n",
       "      <td>45.654812</td>\n",
       "      <td>0.0</td>\n",
       "      <td>2.0</td>\n",
       "      <td>1.0</td>\n",
       "    </tr>\n",
       "    <tr>\n",
       "      <th>2899</th>\n",
       "      <td>66da2a2157</td>\n",
       "      <td>74</td>\n",
       "      <td>237</td>\n",
       "      <td>2</td>\n",
       "      <td>2024-05-25 00:04:00</td>\n",
       "      <td>2024-05-25 00:30:00</td>\n",
       "      <td>80.442013</td>\n",
       "      <td>2024-05-25 00:32:00</td>\n",
       "      <td>1.0</td>\n",
       "      <td>1.0</td>\n",
       "      <td>2.53</td>\n",
       "      <td>90.163115</td>\n",
       "      <td>0.0</td>\n",
       "      <td>2.0</td>\n",
       "      <td>1.0</td>\n",
       "    </tr>\n",
       "  </tbody>\n",
       "</table>\n",
       "</div>"
      ],
      "text/plain": [
       "         trip_id  pickup_location_id  dropoff_location_id  vendor_id  \\\n",
       "191   112cfd5a09                 254                  119          1   \n",
       "3552  750b087814                  95                  160          2   \n",
       "2641  4c523c6888                 130                  216          2   \n",
       "1988  c1e4a59253                  74                  116          2   \n",
       "2899  66da2a2157                  74                  237          2   \n",
       "\n",
       "          pickup_datetime estimated_dropoff_datetime  estimated_fare_amount  \\\n",
       "191   2024-05-25 00:01:00        2024-05-25 00:20:00              56.386583   \n",
       "3552  2024-05-25 00:01:00        2024-05-25 00:24:00              74.202816   \n",
       "2641  2024-05-25 00:02:00        2024-05-25 00:27:00              56.537472   \n",
       "1988  2024-05-25 00:04:00        2024-05-25 00:27:00              45.654812   \n",
       "2899  2024-05-25 00:04:00        2024-05-25 00:30:00              80.442013   \n",
       "\n",
       "         dropoff_datetime  rate_code  passenger_count  trip_distance  \\\n",
       "191   2024-05-25 00:20:00        1.0              1.0           0.00   \n",
       "3552  2024-05-25 00:24:00        1.0              1.0           2.49   \n",
       "2641  2024-05-25 00:27:00        1.0              1.0           3.09   \n",
       "1988  2024-05-25 00:27:00        1.0              1.0           3.54   \n",
       "2899  2024-05-25 00:32:00        1.0              1.0           2.53   \n",
       "\n",
       "      fare_amount  tip_amount  payment_type  trip_type  \n",
       "191     56.386583         0.0           1.0        1.0  \n",
       "3552    84.045145         0.0           2.0        1.0  \n",
       "2641    62.946882         0.0           2.0        1.0  \n",
       "1988    45.654812         0.0           2.0        1.0  \n",
       "2899    90.163115         0.0           2.0        1.0  "
      ]
     },
     "execution_count": 12,
     "metadata": {},
     "output_type": "execute_result"
    }
   ],
   "source": [
    "sorted_trips = trips.sort_values(by=['pickup_datetime', 'dropoff_datetime'])\n",
    "sorted_trips.head()"
   ]
  },
  {
   "cell_type": "code",
   "execution_count": 13,
   "id": "743b3d90",
   "metadata": {},
   "outputs": [
    {
     "data": {
      "text/html": [
       "<div>\n",
       "<style scoped>\n",
       "    .dataframe tbody tr th:only-of-type {\n",
       "        vertical-align: middle;\n",
       "    }\n",
       "\n",
       "    .dataframe tbody tr th {\n",
       "        vertical-align: top;\n",
       "    }\n",
       "\n",
       "    .dataframe thead th {\n",
       "        text-align: right;\n",
       "    }\n",
       "</style>\n",
       "<table border=\"1\" class=\"dataframe\">\n",
       "  <thead>\n",
       "    <tr style=\"text-align: right;\">\n",
       "      <th></th>\n",
       "      <th>pickup_date</th>\n",
       "      <th>fare_amount</th>\n",
       "    </tr>\n",
       "  </thead>\n",
       "  <tbody>\n",
       "    <tr>\n",
       "      <th>0</th>\n",
       "      <td>2024-05-25</td>\n",
       "      <td>274393.882557</td>\n",
       "    </tr>\n",
       "  </tbody>\n",
       "</table>\n",
       "</div>"
      ],
      "text/plain": [
       "  pickup_date    fare_amount\n",
       "0  2024-05-25  274393.882557"
      ]
     },
     "execution_count": 13,
     "metadata": {},
     "output_type": "execute_result"
    }
   ],
   "source": [
    "# kpi 1: total fare per day\n",
    "sorted_trips['pickup_date'] = pd.to_datetime(sorted_trips['pickup_datetime']).dt.date\n",
    "total_fare_per_day = sorted_trips.groupby('pickup_date')['fare_amount'].sum().reset_index()\n",
    "total_fare_per_day.head()"
   ]
  },
  {
   "cell_type": "code",
   "execution_count": 14,
   "id": "570dfe97",
   "metadata": {},
   "outputs": [
    {
     "data": {
      "text/plain": [
       "pickup_date\n",
       "2024-05-25    4999\n",
       "Name: count, dtype: int64"
      ]
     },
     "execution_count": 14,
     "metadata": {},
     "output_type": "execute_result"
    }
   ],
   "source": [
    "sorted_trips['pickup_date'].value_counts()"
   ]
  },
  {
   "cell_type": "code",
   "execution_count": 15,
   "id": "427d196e",
   "metadata": {},
   "outputs": [
    {
     "data": {
      "text/html": [
       "<div>\n",
       "<style scoped>\n",
       "    .dataframe tbody tr th:only-of-type {\n",
       "        vertical-align: middle;\n",
       "    }\n",
       "\n",
       "    .dataframe tbody tr th {\n",
       "        vertical-align: top;\n",
       "    }\n",
       "\n",
       "    .dataframe thead th {\n",
       "        text-align: right;\n",
       "    }\n",
       "</style>\n",
       "<table border=\"1\" class=\"dataframe\">\n",
       "  <thead>\n",
       "    <tr style=\"text-align: right;\">\n",
       "      <th></th>\n",
       "      <th>pickup_date</th>\n",
       "      <th>trip_id</th>\n",
       "    </tr>\n",
       "  </thead>\n",
       "  <tbody>\n",
       "    <tr>\n",
       "      <th>0</th>\n",
       "      <td>2024-05-25</td>\n",
       "      <td>4999</td>\n",
       "    </tr>\n",
       "  </tbody>\n",
       "</table>\n",
       "</div>"
      ],
      "text/plain": [
       "  pickup_date  trip_id\n",
       "0  2024-05-25     4999"
      ]
     },
     "execution_count": 15,
     "metadata": {},
     "output_type": "execute_result"
    }
   ],
   "source": [
    "# kpi 2: count of trips\n",
    "count_of_trips = sorted_trips.groupby('pickup_date')['trip_id'].count().reset_index()\n",
    "count_of_trips.head()"
   ]
  },
  {
   "cell_type": "code",
   "execution_count": 16,
   "id": "d8798d5b",
   "metadata": {},
   "outputs": [
    {
     "data": {
      "text/html": [
       "<div>\n",
       "<style scoped>\n",
       "    .dataframe tbody tr th:only-of-type {\n",
       "        vertical-align: middle;\n",
       "    }\n",
       "\n",
       "    .dataframe tbody tr th {\n",
       "        vertical-align: top;\n",
       "    }\n",
       "\n",
       "    .dataframe thead th {\n",
       "        text-align: right;\n",
       "    }\n",
       "</style>\n",
       "<table border=\"1\" class=\"dataframe\">\n",
       "  <thead>\n",
       "    <tr style=\"text-align: right;\">\n",
       "      <th></th>\n",
       "      <th>pickup_date</th>\n",
       "      <th>fare_amount</th>\n",
       "    </tr>\n",
       "  </thead>\n",
       "  <tbody>\n",
       "    <tr>\n",
       "      <th>0</th>\n",
       "      <td>2024-05-25</td>\n",
       "      <td>54.889754</td>\n",
       "    </tr>\n",
       "  </tbody>\n",
       "</table>\n",
       "</div>"
      ],
      "text/plain": [
       "  pickup_date  fare_amount\n",
       "0  2024-05-25    54.889754"
      ]
     },
     "execution_count": 16,
     "metadata": {},
     "output_type": "execute_result"
    }
   ],
   "source": [
    "# kpi 3: average fare \n",
    "average_fare = sorted_trips.groupby('pickup_date')['fare_amount'].mean().reset_index()\n",
    "average_fare.head()"
   ]
  },
  {
   "cell_type": "code",
   "execution_count": 17,
   "id": "5b91c4c9",
   "metadata": {},
   "outputs": [
    {
     "data": {
      "text/html": [
       "<div>\n",
       "<style scoped>\n",
       "    .dataframe tbody tr th:only-of-type {\n",
       "        vertical-align: middle;\n",
       "    }\n",
       "\n",
       "    .dataframe tbody tr th {\n",
       "        vertical-align: top;\n",
       "    }\n",
       "\n",
       "    .dataframe thead th {\n",
       "        text-align: right;\n",
       "    }\n",
       "</style>\n",
       "<table border=\"1\" class=\"dataframe\">\n",
       "  <thead>\n",
       "    <tr style=\"text-align: right;\">\n",
       "      <th></th>\n",
       "      <th>pickup_date</th>\n",
       "      <th>fare_amount</th>\n",
       "    </tr>\n",
       "  </thead>\n",
       "  <tbody>\n",
       "    <tr>\n",
       "      <th>0</th>\n",
       "      <td>2024-05-25</td>\n",
       "      <td>99.990127</td>\n",
       "    </tr>\n",
       "  </tbody>\n",
       "</table>\n",
       "</div>"
      ],
      "text/plain": [
       "  pickup_date  fare_amount\n",
       "0  2024-05-25    99.990127"
      ]
     },
     "execution_count": 17,
     "metadata": {},
     "output_type": "execute_result"
    }
   ],
   "source": [
    "# kpi 4: maximum fare \n",
    "maximum_fare = sorted_trips.groupby('pickup_date')['fare_amount'].max().reset_index()\n",
    "maximum_fare.head()"
   ]
  },
  {
   "cell_type": "code",
   "execution_count": 18,
   "id": "00a514a7",
   "metadata": {},
   "outputs": [
    {
     "data": {
      "text/html": [
       "<div>\n",
       "<style scoped>\n",
       "    .dataframe tbody tr th:only-of-type {\n",
       "        vertical-align: middle;\n",
       "    }\n",
       "\n",
       "    .dataframe tbody tr th {\n",
       "        vertical-align: top;\n",
       "    }\n",
       "\n",
       "    .dataframe thead th {\n",
       "        text-align: right;\n",
       "    }\n",
       "</style>\n",
       "<table border=\"1\" class=\"dataframe\">\n",
       "  <thead>\n",
       "    <tr style=\"text-align: right;\">\n",
       "      <th></th>\n",
       "      <th>pickup_date</th>\n",
       "      <th>fare_amount</th>\n",
       "    </tr>\n",
       "  </thead>\n",
       "  <tbody>\n",
       "    <tr>\n",
       "      <th>0</th>\n",
       "      <td>2024-05-25</td>\n",
       "      <td>10.036695</td>\n",
       "    </tr>\n",
       "  </tbody>\n",
       "</table>\n",
       "</div>"
      ],
      "text/plain": [
       "  pickup_date  fare_amount\n",
       "0  2024-05-25    10.036695"
      ]
     },
     "execution_count": 18,
     "metadata": {},
     "output_type": "execute_result"
    }
   ],
   "source": [
    "# kpi 5: minimum fare\n",
    "minimum_fare = sorted_trips.groupby('pickup_date')['fare_amount'].min().reset_index()\n",
    "minimum_fare.head()"
   ]
  }
 ],
 "metadata": {
  "kernelspec": {
   "display_name": "base",
   "language": "python",
   "name": "python3"
  },
  "language_info": {
   "codemirror_mode": {
    "name": "ipython",
    "version": 3
   },
   "file_extension": ".py",
   "mimetype": "text/x-python",
   "name": "python",
   "nbconvert_exporter": "python",
   "pygments_lexer": "ipython3",
   "version": "3.12.4"
  }
 },
 "nbformat": 4,
 "nbformat_minor": 5
}
